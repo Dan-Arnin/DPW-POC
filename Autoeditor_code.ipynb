{
  "nbformat": 4,
  "nbformat_minor": 0,
  "metadata": {
    "colab": {
      "provenance": []
    },
    "kernelspec": {
      "name": "python3",
      "display_name": "Python 3"
    },
    "language_info": {
      "name": "python"
    }
  },
  "cells": [
    {
      "cell_type": "code",
      "source": [
        "!pip3 install currency_symbols"
      ],
      "metadata": {
        "colab": {
          "base_uri": "https://localhost:8080/"
        },
        "id": "s_kLPPBRDCvT",
        "outputId": "e35a8dc2-1a51-4e49-ab7b-aba2b1ce5e45"
      },
      "execution_count": null,
      "outputs": [
        {
          "output_type": "stream",
          "name": "stdout",
          "text": [
            "Collecting currency_symbols\n",
            "  Downloading currency_symbols-2.0.3-py3-none-any.whl (5.0 kB)\n",
            "Installing collected packages: currency_symbols\n",
            "Successfully installed currency_symbols-2.0.3\n"
          ]
        }
      ]
    },
    {
      "cell_type": "code",
      "source": [
        "from currency_symbols import CurrencySymbols"
      ],
      "metadata": {
        "id": "GueDe8FLDz-M"
      },
      "execution_count": null,
      "outputs": []
    },
    {
      "cell_type": "code",
      "source": [
        "!pip3 install yfinance"
      ],
      "metadata": {
        "colab": {
          "base_uri": "https://localhost:8080/"
        },
        "id": "ZnZxBwR6Ucgr",
        "outputId": "31a7c5ad-7bda-4296-c1a1-75ffc8e9110d"
      },
      "execution_count": null,
      "outputs": [
        {
          "output_type": "stream",
          "name": "stdout",
          "text": [
            "Requirement already satisfied: yfinance in /usr/local/lib/python3.10/dist-packages (0.2.40)\n",
            "Requirement already satisfied: pandas>=1.3.0 in /usr/local/lib/python3.10/dist-packages (from yfinance) (2.0.3)\n",
            "Requirement already satisfied: numpy>=1.16.5 in /usr/local/lib/python3.10/dist-packages (from yfinance) (1.25.2)\n",
            "Requirement already satisfied: requests>=2.31 in /usr/local/lib/python3.10/dist-packages (from yfinance) (2.31.0)\n",
            "Requirement already satisfied: multitasking>=0.0.7 in /usr/local/lib/python3.10/dist-packages (from yfinance) (0.0.11)\n",
            "Requirement already satisfied: lxml>=4.9.1 in /usr/local/lib/python3.10/dist-packages (from yfinance) (4.9.4)\n",
            "Requirement already satisfied: platformdirs>=2.0.0 in /usr/local/lib/python3.10/dist-packages (from yfinance) (4.2.2)\n",
            "Requirement already satisfied: pytz>=2022.5 in /usr/local/lib/python3.10/dist-packages (from yfinance) (2023.4)\n",
            "Requirement already satisfied: frozendict>=2.3.4 in /usr/local/lib/python3.10/dist-packages (from yfinance) (2.4.4)\n",
            "Requirement already satisfied: peewee>=3.16.2 in /usr/local/lib/python3.10/dist-packages (from yfinance) (3.17.5)\n",
            "Requirement already satisfied: beautifulsoup4>=4.11.1 in /usr/local/lib/python3.10/dist-packages (from yfinance) (4.12.3)\n",
            "Requirement already satisfied: html5lib>=1.1 in /usr/local/lib/python3.10/dist-packages (from yfinance) (1.1)\n",
            "Requirement already satisfied: soupsieve>1.2 in /usr/local/lib/python3.10/dist-packages (from beautifulsoup4>=4.11.1->yfinance) (2.5)\n",
            "Requirement already satisfied: six>=1.9 in /usr/local/lib/python3.10/dist-packages (from html5lib>=1.1->yfinance) (1.16.0)\n",
            "Requirement already satisfied: webencodings in /usr/local/lib/python3.10/dist-packages (from html5lib>=1.1->yfinance) (0.5.1)\n",
            "Requirement already satisfied: python-dateutil>=2.8.2 in /usr/local/lib/python3.10/dist-packages (from pandas>=1.3.0->yfinance) (2.8.2)\n",
            "Requirement already satisfied: tzdata>=2022.1 in /usr/local/lib/python3.10/dist-packages (from pandas>=1.3.0->yfinance) (2024.1)\n",
            "Requirement already satisfied: charset-normalizer<4,>=2 in /usr/local/lib/python3.10/dist-packages (from requests>=2.31->yfinance) (3.3.2)\n",
            "Requirement already satisfied: idna<4,>=2.5 in /usr/local/lib/python3.10/dist-packages (from requests>=2.31->yfinance) (3.7)\n",
            "Requirement already satisfied: urllib3<3,>=1.21.1 in /usr/local/lib/python3.10/dist-packages (from requests>=2.31->yfinance) (2.0.7)\n",
            "Requirement already satisfied: certifi>=2017.4.17 in /usr/local/lib/python3.10/dist-packages (from requests>=2.31->yfinance) (2024.2.2)\n"
          ]
        }
      ]
    },
    {
      "cell_type": "code",
      "source": [
        "def check_lists_equal(list1, list2):\n",
        "    if len(list1) != len(list2):\n",
        "        return False\n",
        "    return sorted(list1) == sorted(list2)\n",
        "\n",
        "# Test cases\n",
        "list1 = [\"USD\", \"AED\"]\n",
        "list2 = [\"AED\", \"USD\"]\n",
        "\n",
        "list3 = [\"USD\", \"EUR\", \"EUR\"]\n",
        "list4 = [\"EUR\", \"USD\", \"EUR\"]\n",
        "\n",
        "print(check_lists_equal(list1, list2))  # Should return True\n",
        "print(check_lists_equal(list3, list4))  # Should return False\n"
      ],
      "metadata": {
        "colab": {
          "base_uri": "https://localhost:8080/"
        },
        "id": "-xSMagL0Vh3W",
        "outputId": "f55d7ff8-8b11-4382-c6b3-2f6bfc35ce11"
      },
      "execution_count": null,
      "outputs": [
        {
          "output_type": "stream",
          "name": "stdout",
          "text": [
            "True\n",
            "True\n"
          ]
        }
      ]
    },
    {
      "cell_type": "code",
      "execution_count": 137,
      "metadata": {
        "id": "0NaiCbiU74EG",
        "colab": {
          "base_uri": "https://localhost:8080/"
        },
        "outputId": "d2fcc6ec-dcaf-4e89-81b5-a6e158cab8ad"
      },
      "outputs": [
        {
          "output_type": "stream",
          "name": "stdout",
          "text": [
            "malllllllll\n",
            "{'currency1': {'list': ['90000', ' ', '-', ' ', '800000', ',', ' ', '1', ' ', 'INR', ' ', 'USD'], 'format': {'string': '{numerical_values}{space}{special_character}{space}{numerical_values}{special_character}{space}{numerical_values}{space}{currency_code}{space}{currency_code}', 'format': {'currency_code': ['INR', 'USD'], 'currency_symbol': [], 'special_character': ['-', ','], 'numerical_values': ['90000', '800000', '1'], 'string_val': [], 'space': ' '}}}, 'currency2': {'list': ['90000', ' ', '-', ' ', '800000', ',', ' ', '4', ' ', 'INR', ' ', 'USD'], 'format': {'string': '{numerical_values}{space}{special_character}{space}{numerical_values}{special_character}{space}{numerical_values}{space}{currency_code}{space}{currency_code}', 'format': {'currency_code': ['INR', 'USD'], 'currency_symbol': [], 'special_character': ['-', ','], 'numerical_values': ['90000', '800000', '4'], 'string_val': [], 'space': ' '}}}}\n",
            "malllllllll\n",
            "{'currency1': {'list': ['80000', ' ', '-', ' ', '60000', ',', ' ', '1', ' ', 'USD', ' ', 'INR'], 'format': {'string': '{numerical_values}{space}{special_character}{space}{numerical_values}{special_character}{space}{numerical_values}{space}{currency_code}{space}{currency_code}', 'format': {'currency_code': ['USD', 'INR'], 'currency_symbol': [], 'special_character': ['-', ','], 'numerical_values': ['80000', '60000', '1'], 'string_val': [], 'space': ' '}}}, 'currency2': {'list': ['90000', ' ', '-', ' ', '800000', ',', ' ', '1', ' ', 'INR', ' ', 'USD'], 'format': {'string': '{numerical_values}{space}{special_character}{space}{numerical_values}{special_character}{space}{numerical_values}{space}{currency_code}{space}{currency_code}', 'format': {'currency_code': ['INR', 'USD'], 'currency_symbol': [], 'special_character': ['-', ','], 'numerical_values': ['90000', '800000', '1'], 'string_val': [], 'space': ' '}}}}\n"
          ]
        },
        {
          "output_type": "execute_result",
          "data": {
            "text/plain": [
              "False"
            ]
          },
          "metadata": {},
          "execution_count": 137
        }
      ],
      "source": [
        "import re, string\n",
        "import yfinance as yf\n",
        "\n",
        "currency_codes = {'AED', 'AFN', 'ALL', 'AMD', 'ANG', 'AOA', 'ARS', 'AUD', 'AWG', 'AZN', 'BAM', 'BBD', 'BDT', 'BGN', 'BHD', 'BIF', 'BMD', 'BND', 'BOB', 'BOV', 'BRL', 'BSD', 'BTN', 'BWP', 'BYN', 'BZD', 'CAD', 'CDF', 'CHE', 'CHF', 'CHW', 'CLF', 'CLP', 'CNY', 'COP', 'COU', 'CRC', 'CUC', 'CUP', 'CVE', 'CZK', 'DJF', 'DKK', 'DOP', 'DZD', 'EGP', 'ERN', 'ETB', 'EUR', 'FJD', 'FKP', 'GBP', 'GEL', 'GGP', 'GHS', 'GIP', 'GMD', 'GNF', 'GTQ', 'GYD', 'HKD', 'HNL', 'HRK', 'HTG', 'HUF', 'IDR', 'ILS', 'IMP', 'INR', 'IQD', 'IRR', 'ISK', 'JEP', 'JMD', 'JOD', 'JPY', 'KES', 'KGS', 'KHR', 'KMF', 'KPW', 'KRW', 'KWD', 'KYD', 'KZT', 'LAK', 'LBP', 'LKR', 'LRD', 'LSL', 'LYD', 'MAD', 'MDL', 'MGA', 'MKD', 'MMK', 'MNT', 'MOP', 'MRU', 'MUR', 'MVR', 'MWK', 'MXN', 'MXV', 'MYR', 'MZN', 'NAD', 'NGN', 'NIO', 'NOK', 'NPR', 'NZD', 'OMR', 'PAB', 'PEN', 'PGK', 'PHP', 'PKR', 'PLN', 'PYG', 'QAR', 'RON', 'RSD', 'RUB', 'RWF', 'SAR', 'SBD', 'SCR', 'SDG', 'SEK', 'SGD', 'SHP', 'SLL', 'SOS', 'SRD', 'SSP', 'STN', 'SVC', 'SYP', 'SZL', 'THB', 'TJS', 'TMT', 'TND', 'TOP', 'TRY', 'TTD', 'TWD', 'TZS', 'UAH', 'UGX', 'USD', 'USN', 'UYI', 'UYU', 'UZS', 'VEF', 'VND', 'VUV', 'WST', 'XAF', 'XAG', 'XAU', 'XBA', 'XBB', 'XBC', 'XBD', 'XCD', 'XDR', 'XOF', 'XPD', 'XPF', 'XPT', 'XSU', 'XTS', 'XUA', 'XXX', 'YER', 'ZAR', 'ZMW', 'ZWL'}\n",
        "currency_symbols = {'$': 'USD', '€': 'EUR', '¥': 'JPY', '£': 'GBP', '₽': 'RUB', '₹': 'INR', '₺': 'TRY', '₩': 'KRW', '₴': 'UAH', '₦': 'NGN', '₱': 'PHP', '₣': 'CHF', '₪': 'ILS', '₮': 'MNT', '₫': 'VND', '฿': 'THB', '៛': 'KHR', '₡': 'CRC', '₢': 'BRL', '₲': 'PYG', '₥': 'AED', '₦': 'NGN', '₧': 'ESP', '₨': 'PKR', '₪': 'ILS', '₭': 'LAK', '₮': 'MNT', '₯': 'GHC', '₰': 'AOR', '₱': 'PHP', '₲': 'PYG', '₳': 'ARA', '₴': 'UAH', '₵': 'GHS', '₶': 'GRD', '₷': 'ARL', '₸': 'KZT', '₹': 'INR', '₺': 'TRY', '₻': 'BAM', '₼': 'AZN', '₽': 'RUB', '₾': 'GEL', '₿': 'BTC', '฿': 'THB', '៛': 'KHR', '₠': 'ECS', '₡': 'CRC', '₢': 'BRL', '₣': 'CHF', '₤': 'GBP', '₥': 'AED', '₦': 'NGN', '₧': 'ESP', '₨': 'PKR', '₩': 'KRW', '₪': 'ILS', '₫': 'VND'}\n",
        "special_chars = set(string.punctuation)\n",
        "special_chars = list(special_chars)\n",
        "\n",
        "def currency_splitter(currency_lst):\n",
        "  currencies = {\n",
        "    \"currency1\": {\"list\": []},\n",
        "    \"currency2\": {\"list\": []}\n",
        "  }\n",
        "  for index, currency in enumerate(currency_lst):\n",
        "    special_characters = r' ,!:\\.\\-/\\\\|\\`~*%#^\\(\\)\\{\\}\\[\\]'# Define the pattern to include all specified special characters and spaces\n",
        "    currency_symbols_ = r\"$€¥£₽₹₺₩₴₦₱₣₪₮₫฿៛₡₢₲₥₧₨₭₯₰₳₵₶₷₸₻₼₾₿₠₤\"\n",
        "    pattern = r'[\\w]+|[' + special_characters + currency_symbols_ + r']' # Build the regex pattern to match either a word, a special character, or a space\n",
        "    split_text = re.findall(pattern, currency)         # Use re.findall() to find all matches based on the pattern\n",
        "    currencies[f\"currency{index+1}\"][\"list\"] = split_text\n",
        "  return currencies\n",
        "\n",
        "def is_number(string):\n",
        "    try:\n",
        "        float(string)\n",
        "        return True\n",
        "    except ValueError:\n",
        "        return False\n",
        "\n",
        "def currency_similarity_checker_algorithm(currency_1, currency_2):\n",
        "  def check_lists_equal(list1, list2):\n",
        "    if len(list1) != len(list2):\n",
        "        return False\n",
        "    return sorted(list1) == sorted(list2)\n",
        "  currencies = currency_splitter([currency_1, currency_2])\n",
        "  for i in currencies.keys():\n",
        "    for j in currencies[i][\"list\"]:\n",
        "      if j in currency_codes:\n",
        "        if \"code\" not in currencies[i]:\n",
        "          currencies[i][\"code\"] = []\n",
        "          currencies[i][\"code\"].append(j)\n",
        "        else:\n",
        "          currencies[i][\"code\"].append(j)\n",
        "      elif j in currency_symbols.keys():\n",
        "        if \"code\" not in currencies[i]:\n",
        "          currencies[i][\"code\"] = []\n",
        "          currencies[i][\"code\"].append(currency_symbols[j])\n",
        "        else:\n",
        "          currencies[i][\"code\"].append(currency_symbols[j])\n",
        "  return check_lists_equal(currencies[\"currency1\"][\"code\"], currencies[\"currency2\"][\"code\"])\n",
        "\n",
        "def currency_format_mapper(currency_list):\n",
        "  currency_format = { \"string\" : \"\",\n",
        "    \"format\" : {\n",
        "    \"currency_code\":  [],\n",
        "    \"currency_symbol\":  [],\n",
        "    \"special_character\": [],\n",
        "    \"numerical_values\": [],\n",
        "    \"string_val\" : [],\n",
        "    \"space\" : \" \"\n",
        "  }}\n",
        "  for i in currency_list:\n",
        "    if i in currency_codes:\n",
        "      currency_format[\"format\"][\"currency_code\"].append(i)\n",
        "      currency_format[\"string\"] += \"{currency_code}\"\n",
        "      # currency_format[\"format\"][\"{currency_code}\"][\"traversal\"] += 1\n",
        "    elif i in currency_symbols.keys():\n",
        "      currency_format[\"format\"][\"currency_symbol\"].append(i)\n",
        "      currency_format[\"format\"][\"currency_code\"].append(currency_symbols[i])\n",
        "      currency_format[\"string\"] += \"{currency_symbol}\"\n",
        "    elif i in special_chars:\n",
        "      currency_format[\"format\"][\"special_character\"].append(i)\n",
        "      currency_format[\"string\"] += \"{special_character}\"\n",
        "    elif i == \" \":\n",
        "      currency_format[\"string\"] += \"{space}\"\n",
        "    elif is_number(i):\n",
        "      currency_format[\"format\"][\"numerical_values\"].append(i)\n",
        "      currency_format[\"string\"] += \"{numerical_values}\"\n",
        "    else:\n",
        "      currency_format[\"format\"][\"string_val\"].append(i)\n",
        "      currency_format[\"string\"] += \"{string_val}\"\n",
        "  return currency_format\n",
        "\n",
        "def currency_format_checker_algorithm(currency1, currency2, format_similarity_metrics=\"strict\"):\n",
        "  if format_similarity_metrics == \"strict\":\n",
        "    code = currency_similarity_checker_algorithm(currency1, currency2)\n",
        "    currencies = [currency1, currency2]\n",
        "    currencies = currency_splitter(currencies)\n",
        "    for index, currency in enumerate(currencies):\n",
        "      currencies[f\"currency{index+1}\"][\"format\"] = currency_format_mapper(currencies[f\"currency{index+1}\"][\"list\"])\n",
        "    print(\"malllllllll\")\n",
        "    print(currencies)\n",
        "    if code:\n",
        "      if currencies[f\"currency1\"][\"format\"][\"string\"] == currencies[f\"currency2\"][\"format\"][\"string\"]:\n",
        "        return True, currencies\n",
        "      else:\n",
        "        return False, currencies\n",
        "    else:\n",
        "      return False, currencies\n",
        "  elif format_similarity_metrics == \"partial\":\n",
        "    code = currency_similarity_checker_algorithm(currency1, currency2)\n",
        "    currencies = [currency1, currency2]\n",
        "    currencies = currency_splitter(currencies)\n",
        "    if currency_similarity_checker_algorithm(currency1, currency2):\n",
        "      return True, []\n",
        "    else:\n",
        "      return False, currencies\n",
        "\n",
        "def currency_exchange(from_currency, to_currency, amount):\n",
        "    ticker = f\"{from_currency}{to_currency}=X\"\n",
        "    data = yf.Ticker(ticker)\n",
        "    exchange_rate = data.history(period=\"1d\")['Close'].iloc[-1]\n",
        "    converted_amount = float(amount) * exchange_rate\n",
        "    formatted_value = \"{:.2f}\".format(converted_amount)\n",
        "    return formatted_value\n",
        "\n",
        "def currency_format_convertor(currencies, format = \"strict\"):\n",
        "  print(currencies)\n",
        "  currency_format = currencies[\"currency2\"][\"format\"][\"string\"]\n",
        "  pattern = r'\\{([^{}]*)\\}'\n",
        "  currency_format = re.findall(pattern, currency_format)\n",
        "  final_currency_string = \"\"\n",
        "  for component in currency_format:\n",
        "    if component == \"space\":\n",
        "      final_currency_string += \" \"\n",
        "    elif component == \"currency_code\":\n",
        "      final_currency_string += str(currencies[\"currency2\"][\"format\"][\"format\"][\"currency_code\"].pop(0))\n",
        "    elif component == \"currency_symbol\":\n",
        "      final_currency_string += str(currencies[\"currency2\"][\"format\"][\"format\"][\"currency_symbol\"].pop(0))\n",
        "    elif component == \"special_character\":\n",
        "      final_currency_string += str(currencies[\"currency2\"][\"format\"][\"format\"][\"special_character\"].pop(0))\n",
        "    elif component == \"numerical_values\":\n",
        "      if currencies[\"currency2\"][\"format\"][\"format\"][\"currency_code\"][0] == currencies[\"currency1\"][\"format\"][\"format\"][\"currency_code\"][0]:\n",
        "        final_currency_string += str(currencies[\"currency1\"][\"format\"][\"format\"][\"numerical_values\"].pop(0))\n",
        "      else:\n",
        "        final_currency_string += str(currency_exchange(currencies[\"currency1\"][\"format\"][\"format\"][\"currency_code\"][0],currencies[\"currency2\"][\"format\"][\"format\"][\"currency_code\"][0], currencies[\"currency1\"][\"format\"][\"format\"][\"numerical_values\"].pop(0)))\n",
        "      if len(currencies[\"currency2\"][\"format\"][\"format\"][\"currency_code\"]) ==1 and currencies[\"currency2\"][\"format\"][\"format\"][\"numerical_values\"] in [0,1]:\n",
        "        currencies[\"currency2\"][\"format\"][\"format\"][\"currency_code\"].pop(0)\n",
        "        currencies[\"currency1\"][\"format\"][\"format\"][\"currency_code\"].pop(0)\n",
        "    elif component == \"string_val\" and format == \"strict\":\n",
        "      final_currency_string += str(currencies[\"currency2\"][\"format\"][\"format\"][\"string_val\"].pop(0))\n",
        "  return final_currency_string\n",
        "\n",
        "\n",
        "def currency_check_change(currency1, currency2, new_currency):\n",
        "  similarity, currencies = currency_format_checker_algorithm(currency1.strip(), currency2.strip())\n",
        "  if similarity:\n",
        "    similarity, currencies = currency_format_checker_algorithm(new_currency.strip(), currency1.strip())\n",
        "    if similarity:\n",
        "      return False\n",
        "    else:\n",
        "      return currency_format_convertor(currencies)\n",
        "  else:\n",
        "    return False\n",
        "\n",
        "\n",
        "val1 = \"90000 - 800000, 1 INR USD\"\n",
        "val2 = \"90000 - 800000, 4 INR USD\"\n",
        "val3 = \"80000 - 60000, 1 USD INR\"\n",
        "currency_check_change(val1, val2, val3)"
      ]
    },
    {
      "cell_type": "code",
      "source": [
        "string_val = \"\"\n",
        "for symbol in currency_symbols.keys():\n",
        "  string_val += symbol"
      ],
      "metadata": {
        "id": "b95Qn8mJS633"
      },
      "execution_count": null,
      "outputs": []
    },
    {
      "cell_type": "code",
      "source": [
        "import re, string\n",
        "\n",
        "months_dict = {\n",
        "    \"January\": [\"Jan\"],\n",
        "    \"February\": [\"Feb\"],\n",
        "    \"March\": [\"Mar\"],\n",
        "    \"April\": [\"Apr\"],\n",
        "    \"May\": [\"May\"],\n",
        "    \"June\": [\"Jun\"],\n",
        "    \"July\": [\"Jul\"],\n",
        "    \"August\": [\"Aug\"],\n",
        "    \"September\": [\"Sep\", \"Sept\"],\n",
        "    \"October\": [\"Oct\"],\n",
        "    \"November\": [\"Nov\"],\n",
        "    \"December\": [\"Dec\"]\n",
        "}\n",
        "\n",
        "def date_splitter(date_lst):\n",
        "  dates = {\n",
        "    \"date1\": {\"list\": []},\n",
        "    \"date2\": {\"list\": []}\n",
        "  }\n",
        "  for index, date in enumerate(date_lst):\n",
        "    special_characters = r' ,!:\\.\\-/\\\\|\\`~*%#^\\(\\)\\{\\}\\[\\]'# Define the pattern to include all specified special characters and spaces\n",
        "    pattern = r'[\\w]+|[' + special_characters + r']' # Build the regex pattern to match either a word, a special character, or a space\n",
        "    split_text = re.findall(pattern, date)         # Use re.findall() to find all matches based on the pattern\n",
        "    dates[f\"date{index+1}\"][\"list\"] = split_text\n",
        "  return dates\n",
        "\n",
        "def is_number(string):\n",
        "    try:\n",
        "        float(string)\n",
        "        return True\n",
        "    except ValueError:\n",
        "        return False\n",
        "\n",
        "def date_similarity_checker_algorithm(date_1, date_2):\n",
        "  def check_lists_equal(list1, list2):\n",
        "    if len(list1) != len(list2):\n",
        "        return False\n",
        "    return sorted(list1) == sorted(list2)\n",
        "  dates = date_splitter([date_1, date_2])\n",
        "  for i in dates.keys():\n",
        "    for j in dates[i][\"list\"]:\n",
        "      if j in date_codes:\n",
        "        if \"code\" not in dates[i]:\n",
        "          dates[i][\"code\"] = []\n",
        "          dates[i][\"code\"].append(j)\n",
        "        else:\n",
        "          dates[i][\"code\"].append(j)\n",
        "      elif j in date_symbols.keys():\n",
        "        if \"code\" not in dates[i]:\n",
        "          dates[i][\"code\"] = []\n",
        "          dates[i][\"code\"].append(date_symbols[j])\n",
        "        else:\n",
        "          dates[i][\"code\"].append(date_symbols[j])\n",
        "  return check_lists_equal(dates[\"date1\"][\"code\"], dates[\"date2\"][\"code\"])\n",
        "\n",
        "def date_format_mapper(date_list):\n",
        "  date_format = { \"string\" : \"\",\n",
        "    \"format\" : {\n",
        "    \"date_code\":  [],\n",
        "    \"date_symbol\":  [],\n",
        "    \"special_character\": [],\n",
        "    \"numerical_values\": [],\n",
        "    \"string_val\" : [],\n",
        "    \"space\" : \" \"\n",
        "  }}\n",
        "  for i in date_list:\n",
        "    if i in date_codes:\n",
        "      date_format[\"format\"][\"date_code\"].append(i)\n",
        "      date_format[\"string\"] += \"{date_code}\"\n",
        "      # date_format[\"format\"][\"{date_code}\"][\"traversal\"] += 1\n",
        "    elif i in date_symbols.keys():\n",
        "      date_format[\"format\"][\"date_symbol\"].append(i)\n",
        "      date_format[\"format\"][\"date_code\"].append(date_symbols[i])\n",
        "      date_format[\"string\"] += \"{date_symbol}\"\n",
        "    elif i in special_chars:\n",
        "      date_format[\"format\"][\"special_character\"].append(i)\n",
        "      date_format[\"string\"] += \"{special_character}\"\n",
        "    elif i == \" \":\n",
        "      date_format[\"string\"] += \"{space}\"\n",
        "    elif is_number(i):\n",
        "      date_format[\"format\"][\"numerical_values\"].append(i)\n",
        "      date_format[\"string\"] += \"{numerical_values}\"\n",
        "    else:\n",
        "      date_format[\"format\"][\"string_val\"].append(i)\n",
        "      date_format[\"string\"] += \"{string_val}\"\n",
        "  return date_format\n",
        "\n",
        "def date_format_checker_algorithm(date1, date2, format_similarity_metrics=\"strict\"):\n",
        "  if format_similarity_metrics == \"strict\":\n",
        "    code = date_similarity_checker_algorithm(date1, date2)\n",
        "    if code:\n",
        "      dates = [date1, date2]\n",
        "      dates = date_splitter(dates)\n",
        "      for index, date in enumerate(dates):\n",
        "        dates[f\"date{index+1}\"][\"format\"] = date_format_mapper(dates[f\"date{index+1}\"][\"list\"])\n",
        "      if dates[f\"date1\"][\"format\"][\"string\"] == dates[f\"date2\"][\"format\"][\"string\"]:\n",
        "        return True, dates\n",
        "      else:\n",
        "        return False, dates\n",
        "    else:\n",
        "      return False, []\n",
        "  elif format_similarity_metrics == \"partial\":\n",
        "    if date_similarity_checker_algorithm(date1, date2):\n",
        "      return True, []\n",
        "    else:\n",
        "      return False, []\n",
        "\n",
        "def date_exchange(from_date, to_date, amount):\n",
        "    ticker = f\"{from_date}{to_date}=X\"\n",
        "    data = yf.Ticker(ticker)\n",
        "    exchange_rate = data.history(period=\"1d\")['Close'].iloc[-1]\n",
        "    converted_amount = float(amount) * exchange_rate\n",
        "    formatted_value = \"{:.2f}\".format(converted_amount)\n",
        "    return formatted_value\n",
        "\n",
        "def date_format_convertor(dates, format = \"strict\"):\n",
        "  date_format = dates[\"date2\"][\"format\"][\"string\"]\n",
        "  pattern = r'\\{([^{}]*)\\}'\n",
        "  date_format = re.findall(pattern, date_format)\n",
        "  final_date_string = \"\"\n",
        "  for component in date_format:\n",
        "    if component == \"space\":\n",
        "      final_date_string += \" \"\n",
        "    elif component == \"date_code\":\n",
        "      final_date_string += str(dates[\"date2\"][\"format\"][\"format\"][\"date_code\"][0])\n",
        "    elif component == \"date_symbol\":\n",
        "      final_date_string += str(dates[\"date2\"][\"format\"][\"format\"][\"date_symbol\"].pop(0))\n",
        "    elif component == \"special_character\":\n",
        "      final_date_string += str(dates[\"date2\"][\"format\"][\"format\"][\"special_character\"].pop(0))\n",
        "    elif component == \"numerical_values\":\n",
        "      if dates[\"date2\"][\"format\"][\"format\"][\"date_code\"][0] == dates[\"date1\"][\"format\"][\"format\"][\"date_code\"][0]:\n",
        "        final_date_string += str(dates[\"date1\"][\"format\"][\"format\"][\"numerical_values\"].pop(0))\n",
        "      else:\n",
        "        final_date_string += str(date_exchange(dates[\"date1\"][\"format\"][\"format\"][\"date_code\"][0],dates[\"date2\"][\"format\"][\"format\"][\"date_code\"][0], dates[\"date1\"][\"format\"][\"format\"][\"numerical_values\"].pop(0)))\n",
        "      if len(dates[\"date2\"][\"format\"][\"format\"][\"date_code\"]) ==1 and dates[\"date2\"][\"format\"][\"format\"][\"numerical_values\"] in [0,1]:\n",
        "        dates[\"date2\"][\"format\"][\"format\"][\"date_code\"].pop(0)\n",
        "        dates[\"date1\"][\"format\"][\"format\"][\"date_code\"].pop(0)\n",
        "    elif component == \"string_val\" and format == \"strict\":\n",
        "      final_date_string += str(dates[\"date2\"][\"format\"][\"format\"][\"string_val\"].pop(0))\n",
        "  return final_date_string\n",
        "\n",
        "\n",
        "def date_check_change(date1, date2, new_date):\n",
        "  similarity, dates = date_format_checker_algorithm(date1.strip(), date2.strip())\n",
        "  if similarity:\n",
        "    similarity, dates = date_format_checker_algorithm(new_date.strip(), date1.strip())\n",
        "    if similarity:\n",
        "      return False\n",
        "    else:\n",
        "      return date_format_convertor(dates)\n",
        "  else:\n",
        "    return False\n"
      ],
      "metadata": {
        "colab": {
          "base_uri": "https://localhost:8080/",
          "height": 35
        },
        "id": "NtRtrNIM43n6",
        "outputId": "8ef3d2f5-fb48-4849-d900-b5e20f1bbb23"
      },
      "execution_count": null,
      "outputs": [
        {
          "output_type": "execute_result",
          "data": {
            "text/plain": [
              "'$€¥£₽₹₺₩₴₦₱₣₪₮₫฿៛₡₢₲₥₧₨₭₯₰₳₵₶₷₸₻₼₾₿₠₤'"
            ],
            "application/vnd.google.colaboratory.intrinsic+json": {
              "type": "string"
            }
          },
          "metadata": {},
          "execution_count": 96
        }
      ]
    },
    {
      "cell_type": "code",
      "source": [
        "import string\n",
        "\n",
        "months = ['January', 'February', 'March', 'April', 'May', 'June', 'July', 'August', 'September', 'October', 'November', 'December']\n",
        "months_small = ['Jan', 'Feb', 'Mar', 'Apr', 'May', 'Jun', 'Jul', 'Aug', 'Sep', 'Oct', 'Nov', 'Dec']\n",
        "special_chars = set(string.punctuation)\n",
        "special_chars = list(special_chars)\n",
        "\n",
        "def is_number(strval):\n",
        "    try:\n",
        "        val = int(strval)\n",
        "        return True\n",
        "    except:\n",
        "      try:\n",
        "        val = float(strval)\n",
        "        return True\n",
        "      except:\n",
        "        return False\n",
        "\n",
        "def date_splitter(date_lst):\n",
        "  dates = {\n",
        "    \"date1\": {\"list\": []},\n",
        "    \"date2\": {\"list\": []}\n",
        "  }\n",
        "  for index, date in enumerate(date_lst):\n",
        "    special_characters = r' ,!:\\.\\-/\\\\|\\`~*%#^\\(\\)\\{\\}\\[\\]'# Define the pattern to include all specified special characters and spaces\n",
        "    pattern = r'[\\w]+|[' + special_characters + r']' # Build the regex pattern to match either a word, a special character, or a space\n",
        "    split_text = re.findall(pattern, date)         # Use re.findall() to find all matches based on the pattern\n",
        "    dates[f\"date{index+1}\"][\"list\"] = split_text\n",
        "  return dates\n",
        "\n",
        "def date_format_mapper(date_list):\n",
        "  date_format = { \"string\" : \"\",\n",
        "    \"format\" :  {\"month\" : [],\n",
        "    \"year\" : [],\n",
        "    \"date\" : [],\n",
        "    \"numerical_values\" : [],\n",
        "    \"special_character\" : []\n",
        "    }\n",
        "  }\n",
        "  date_format_labels = {\"month\" : [ \"month_string_full\", \"month_string_partial\", \"month_number\"],\n",
        "    \"year\" : [\"year_partial\", \"year_full\"],\n",
        "    \"date\" : [\"date_number\"]\n",
        "    }\n",
        "  months = ['January', 'February', 'March', 'April', 'May', 'June', 'July', 'August', 'September', 'October', 'November', 'December']\n",
        "  months_small = ['Jan', 'Feb', 'Mar', 'Apr', 'May', 'Jun', 'Jul', 'Aug', 'Sep', 'Oct', 'Nov', 'Dec']\n",
        "  months = list(month.lower() for month in months)\n",
        "  months_small = list(month.lower() for month in months_small)\n",
        "  for num, i in enumerate(date_list):\n",
        "    if i.lower() in list(months.lower() for months in months):\n",
        "      date_format[\"format\"][\"month\"].append(months.index(i.lower())+1)\n",
        "      date_format[\"string\"] += \"{month_string_full}\"\n",
        "    elif i.lower() in list(months.lower() for months in months_small):\n",
        "      date_format[\"format\"][\"month\"].append(months_small.index(i.lower())+1)\n",
        "      date_format[\"string\"] += \"{month_string_partial}\"\n",
        "    elif i in special_chars:\n",
        "      date_format[\"format\"][\"special_character\"].append(i)\n",
        "      date_format[\"string\"] += \"{special_character}\"\n",
        "    elif is_number(i):\n",
        "      if len(i) == 4:\n",
        "        date_format[\"format\"][\"year\"].append(i)\n",
        "        date_format[\"string\"] += \"{year_full}\"\n",
        "      elif len(date_format[\"format\"][\"numerical_values\"]) % 2 == 0:\n",
        "        if num > 0:\n",
        "          if date_list[num-1] in special_chars:\n",
        "            date_format[\"format\"][\"year\"].append(\"20\"+str(i))\n",
        "            date_format[\"string\"] += \"{year_partial}\"\n",
        "      elif len(date_format[\"format\"][\"numerical_values\"]) % 3 == 0 or date_list[num-1] not in special_chars:\n",
        "        date_format[\"format\"][\"date\"].append(i)\n",
        "        date_format[\"string\"] += \"{date_number}\"\n",
        "      elif len(date_format[\"format\"][\"numerical_values\"]) % 2 != 0:\n",
        "        try:\n",
        "          if (date_list[num+1] in special_chars and date_list[num-1] in special_chars) or date_list[num+1]==\" \":\n",
        "            date_format[\"format\"][\"month_number\"].append(i)\n",
        "            date_format[\"string\"] += \"{month_number}\"\n",
        "        except:\n",
        "          date_format[\"format\"][\"month\"].append(i)\n",
        "          date_format[\"string\"] += \"{month_number}\"\n",
        "\n",
        "      date_format[\"format\"][\"numerical_values\"].append(i)\n",
        "    elif i == \" \":\n",
        "      date_format[\"string\"] += \"{space}\"\n",
        "    else:\n",
        "      date_format[\"format\"][\"string_val\"].append(i)\n",
        "      date_format[\"string\"] += \"{string_val}\"\n",
        "  return date_format\n",
        "\n",
        "\n",
        "def date_similarity_checker(date1, date2, similarity_metrics = \"strict\"):\n",
        "  dates = date_splitter([date1, date2])\n",
        "  for index, date in enumerate(dates):\n",
        "        dates[f\"date{index+1}\"][\"format\"] = date_format_mapper(dates[f\"date{index+1}\"][\"list\"])\n",
        "  if similarity_metrics == \"strict\":\n",
        "    if dates[\"date1\"][\"format\"][\"string\"] == dates[\"date2\"][\"format\"][\"string\"]:\n",
        "      return True, dates\n",
        "    else:\n",
        "      return False, dates\n",
        "  else:\n",
        "    dates[\"date1\"][\"format\"][\"string\"], dates[\"date2\"][\"format\"][\"string\"] = dates[\"date1\"][\"format\"][\"string\"].replace(\"{string}\", \"\"), dates[\"date2\"][\"format\"][\"string\"].replace(\"{string}\", \"\")\n",
        "    if dates[\"date1\"][\"format\"][\"string\"] == dates[\"date2\"][\"format\"][\"string\"]:\n",
        "      return True, dates\n",
        "    else:\n",
        "      return False, dates\n",
        "\n",
        "def formats_sync(dates):\n",
        "  def format_categorizer_labels(category):\n",
        "    values = {\"month\" : [ \"month_string_full\", \"month_string_partial\", \"month_number\"],\n",
        "    \"year\" : [\"year_partial\", \"year_full\"],\n",
        "    \"date\" : [\"date_number\"]\n",
        "    }\n",
        "    for i in values.keys():\n",
        "      if category in values[i]:\n",
        "        return i\n",
        "\n",
        "  def format_categorizer(category_list):\n",
        "    values = {\"month\" : {\"values\":[ \"month_string_full\", \"month_string_partial\", \"month_number\"], \"count\": 0},\n",
        "    \"year\" : {\"values\":[\"year_partial\", \"year_full\"], \"count\": 0},\n",
        "    \"date\" : {\"values\":[\"date_number\"], \"count\": 0}\n",
        "    }\n",
        "    for j in category_list:\n",
        "      for i in values.keys():\n",
        "        if j in values[i][\"values\"]:\n",
        "          values[i][\"count\"] += 1\n",
        "    return values\n",
        "  date_format = dates[\"date2\"][\"format\"][\"string\"]\n",
        "  date_format_before = dates[\"date1\"][\"format\"][\"string\"]\n",
        "  traversed = {\n",
        "      \"month_string_full\":  0,\n",
        "    \"month_string_partial\": 0,\n",
        "    \"month_number\": 0,\n",
        "    \"year_partial\": 0,\n",
        "    \"year_full\": 0,\n",
        "    \"date_number\": 0\n",
        "  }\n",
        "  pattern = r\"\\{(month_string_full|month_string_partial|month_number|year_partial|year_full|date_number)\\}\"\n",
        "  date_format, date_format_lables = format_categorizer(re.findall(pattern, date_format)), re.findall(pattern, date_format)\n",
        "  date_format_before, date_format_before_labels = format_categorizer(re.findall(pattern, date_format_before)), re.findall(pattern, date_format_before)\n",
        "  for i in date_format.keys():\n",
        "    if date_format[i][\"count\"] != date_format_before[i][\"count\"]:\n",
        "      for index, component in enumerate(date_format_lables):\n",
        "        print(component)\n",
        "        if format_categorizer_labels(component) == i:\n",
        "          component_before = date_format_before_labels[index]\n",
        "          if is_number(dates[\"date1\"][\"format\"][\"format\"][component_before][traversed[component_before]]):\n",
        "            print(dates[\"date1\"][\"format\"][\"format\"][component_before])\n",
        "            dates[\"date1\"][\"format\"][\"format\"][component_before].insert(traversed[component_before]+1 , str(int(dates[\"date1\"][\"format\"][\"format\"][component_before][traversed[component_before]])+1))\n",
        "            traversed[component_before] += 1\n",
        "          else:\n",
        "            if dates[\"date1\"][\"format\"][\"format\"][component_before][traversed[component_before]] in months:\n",
        "              dates[\"date1\"][\"format\"][\"format\"][component_before].insert(traversed[component_before]+1 , months[(months.index(dates[\"date1\"][\"format\"][\"format\"][component_before][traversed[component_before]])+1) % 12])\n",
        "            else:\n",
        "              dates[\"date1\"][\"format\"][\"format\"][component_before].insert(traversed[component_before]+1 , months_small[(months_small.index(dates[\"date1\"][\"format\"][\"format\"][component_before][traversed[component_before]])+1) % 12])\n",
        "            traversed[component] += 1\n",
        "\n",
        "  return dates\n",
        "\n",
        "\n",
        "def date_format_convertor(dates):\n",
        "  # dates = formats_sync(dates)\n",
        "  print(\"datesssss\")\n",
        "  print(dates)\n",
        "  date_format = dates[\"date2\"][\"format\"][\"string\"]\n",
        "  date_format_before = dates[\"date1\"][\"format\"][\"string\"]\n",
        "  pattern = r'\\{([^{}]*)\\}'\n",
        "  date_format = re.findall(pattern, date_format)\n",
        "  date_format_before = re.findall(pattern, date_format_before)\n",
        "  final_date_string = \"\"\n",
        "  for index, component in enumerate(date_format):\n",
        "    if component == \"space\":\n",
        "      final_date_string += \" \"\n",
        "    elif component == \"month_string_full\":\n",
        "      if is_number(date_format_before[index]):\n",
        "        final_date_string += str(months[dates[\"date1\"][\"format\"][\"format\"][\"month\"].pop(0)])\n",
        "        dates[\"date1\"][\"format\"][\"format\"][\"numercial_values\"].pop(0)\n",
        "      else:\n",
        "        final_date_string += str(months[int(dates[\"date1\"][\"format\"][\"format\"][\"month\"].pop(0))])\n",
        "    elif component == \"year_full\":\n",
        "      final_date_string += str(dates[\"date1\"][\"format\"][\"format\"][\"year\"].pop(0))\n",
        "    elif component == \"year_partial\":\n",
        "      final_date_string += str(dates[\"date1\"][\"format\"][\"format\"][\"year\"].pop(0))[:-3]\n",
        "    elif component == \"month_string_partial\":\n",
        "      if is_number(date_format_before[index]):\n",
        "        final_date_string += str(months_small[dates[\"date1\"][\"format\"][\"format\"][\"month_number\"].pop(0)-1])\n",
        "        dates[\"date1\"][\"format\"][\"format\"][\"numercial_values\"].pop(0)\n",
        "      else:\n",
        "        final_date_string += str(months_small[int(dates[\"date1\"][\"format\"][\"format\"][\"month\"].pop(0))-1])\n",
        "    elif component == \"month_number\":\n",
        "      if is_number(date_format_before[index]):\n",
        "        final_date_string += str(dates[\"date1\"][\"format\"][\"format\"][\"month\"].pop(0))\n",
        "        dates[\"date1\"][\"format\"][\"format\"][\"numercial_values\"].pop(0)\n",
        "    elif component == \"date_number\":\n",
        "      final_date_string += str(dates[\"date2\"][\"format\"][\"format\"][\"date\"].pop(0))\n",
        "    elif component == \"special_character\":\n",
        "      final_date_string += str(dates[\"date2\"][\"format\"][\"format\"][\"special_character\"].pop(0))\n",
        "    elif component == \"string_val\" and format == \"strict\":\n",
        "      final_date_string += str(dates[\"date2\"][\"format\"][\"format\"][\"string_val\"].pop(0))\n",
        "  return final_date_string\n",
        "\n",
        "\n",
        "def date_check_change(date1, date2, new_date, similarity_metrics = \"strict\"):\n",
        "  similarity, dates = date_similarity_checker(date1.strip(), date2.strip(), similarity_metrics)\n",
        "  if similarity:\n",
        "    similarity, dates = date_similarity_checker(new_date.strip(), date1.strip())\n",
        "    if similarity:\n",
        "      print(\"wtf\")\n",
        "      return False\n",
        "    else:\n",
        "      return date_format_convertor(dates)\n",
        "  else:\n",
        "    return False\n",
        "\n",
        "val1 = \"June 2021\"\n",
        "val2 = \"May 2023\"\n",
        "new_date = \"01/04/2025\"\n",
        "print(date_similarity_checker(val1, val2))\n",
        "print(date_check_change(val1, val2, new_date))"
      ],
      "metadata": {
        "colab": {
          "base_uri": "https://localhost:8080/"
        },
        "id": "FSRkZMN649I8",
        "outputId": "27ada5d0-701e-4989-fea5-f4c2ea63b4d9"
      },
      "execution_count": 115,
      "outputs": [
        {
          "output_type": "stream",
          "name": "stdout",
          "text": [
            "(True, {'date1': {'list': ['June', ' ', '2021'], 'format': {'string': '{month_string_full}{space}{year_full}', 'format': {'month': [6], 'year': ['2021'], 'date': [], 'numerical_values': ['2021'], 'special_character': []}}}, 'date2': {'list': ['May', ' ', '2023'], 'format': {'string': '{month_string_full}{space}{year_full}', 'format': {'month': [5], 'year': ['2023'], 'date': [], 'numerical_values': ['2023'], 'special_character': []}}}})\n",
            "datesssss\n",
            "{'date1': {'list': ['01', '/', '04', '/', '2025'], 'format': {'string': '{special_character}{month_number}{special_character}{year_full}', 'format': {'month': ['04'], 'year': ['2025'], 'date': [], 'numerical_values': ['01', '04', '2025'], 'special_character': ['/', '/']}}}, 'date2': {'list': ['June', ' ', '2021'], 'format': {'string': '{month_string_full}{space}{year_full}', 'format': {'month': [6], 'year': ['2021'], 'date': [], 'numerical_values': ['2021'], 'special_character': []}}}}\n",
            "May 2025\n"
          ]
        }
      ]
    },
    {
      "cell_type": "code",
      "source": [
        "months_small = ['Jan', 'Feb', 'Mar', 'Apr', 'May', 'Jun', 'Jul', 'Aug', 'Sep', 'Oct', 'Nov', 'Dec']\n",
        "months = list(month.lower() for month in months_small)\n",
        "months"
      ],
      "metadata": {
        "id": "Q6cpIJzk9wmA",
        "colab": {
          "base_uri": "https://localhost:8080/"
        },
        "outputId": "2280225d-3ff7-47af-b72e-e3f72405dc05"
      },
      "execution_count": 102,
      "outputs": [
        {
          "output_type": "execute_result",
          "data": {
            "text/plain": [
              "['jan',\n",
              " 'feb',\n",
              " 'mar',\n",
              " 'apr',\n",
              " 'may',\n",
              " 'jun',\n",
              " 'jul',\n",
              " 'aug',\n",
              " 'sep',\n",
              " 'oct',\n",
              " 'nov',\n",
              " 'dec']"
            ]
          },
          "metadata": {},
          "execution_count": 102
        }
      ]
    },
    {
      "cell_type": "code",
      "source": [
        "val"
      ],
      "metadata": {
        "id": "BFiL2ufoBL4Y"
      },
      "execution_count": null,
      "outputs": []
    },
    {
      "cell_type": "code",
      "source": [
        "def separate_currency(input_string):\n",
        "    pattern_punct = r'[^\\w\\s]'\n",
        "    cleaned_string = re.sub(pattern_punct, '', input_string, flags=re.MULTILINE)\n",
        "    pattern = r'^(\\D+)(\\d+(?:\\,\\d+)*)$'\n",
        "    match = re.match(pattern, cleaned_string)\n",
        "    if match:\n",
        "        currency_code = match.group(1)\n",
        "        currency_amount = match.group(2).replace(',', '')\n",
        "        return currency_code, currency_amount\n",
        "    elif cleaned_string:\n",
        "        return cleaned_string\n",
        "    else:\n",
        "        return None"
      ],
      "metadata": {
        "id": "J8BieA0_qbD7"
      },
      "execution_count": null,
      "outputs": []
    },
    {
      "cell_type": "code",
      "source": [
        "final_actual_or_estimated_list =['SD', '1700000.00']\n",
        "actual_or_estimated_num_value = map(float([num for num in final_actual_or_estimated_list if num.isdigit()])"
      ],
      "metadata": {
        "colab": {
          "base_uri": "https://localhost:8080/",
          "height": 159
        },
        "id": "Qs5xeRh_lR1c",
        "outputId": "c9699229-044b-4fea-87ac-fce283080741"
      },
      "execution_count": null,
      "outputs": [
        {
          "output_type": "error",
          "ename": "TypeError",
          "evalue": "float() argument must be a string or a real number, not 'list'",
          "traceback": [
            "\u001b[0;31m---------------------------------------------------------------------------\u001b[0m",
            "\u001b[0;31mTypeError\u001b[0m                                 Traceback (most recent call last)",
            "\u001b[0;32m<ipython-input-30-1c02711172dd>\u001b[0m in \u001b[0;36m<cell line: 2>\u001b[0;34m()\u001b[0m\n\u001b[1;32m      1\u001b[0m \u001b[0mfinal_actual_or_estimated_list\u001b[0m \u001b[0;34m=\u001b[0m\u001b[0;34m[\u001b[0m\u001b[0;34m'SD'\u001b[0m\u001b[0;34m,\u001b[0m \u001b[0;34m'1700000.00'\u001b[0m\u001b[0;34m]\u001b[0m\u001b[0;34m\u001b[0m\u001b[0;34m\u001b[0m\u001b[0m\n\u001b[0;32m----> 2\u001b[0;31m \u001b[0mactual_or_estimated_num_value\u001b[0m \u001b[0;34m=\u001b[0m \u001b[0mfloat\u001b[0m\u001b[0;34m(\u001b[0m\u001b[0;34m[\u001b[0m\u001b[0mnum\u001b[0m \u001b[0;32mfor\u001b[0m \u001b[0mnum\u001b[0m \u001b[0;32min\u001b[0m \u001b[0mfinal_actual_or_estimated_list\u001b[0m \u001b[0;32mif\u001b[0m \u001b[0mnum\u001b[0m\u001b[0;34m.\u001b[0m\u001b[0misdigit\u001b[0m\u001b[0;34m(\u001b[0m\u001b[0;34m)\u001b[0m\u001b[0;34m]\u001b[0m\u001b[0;34m)\u001b[0m\u001b[0;34m\u001b[0m\u001b[0;34m\u001b[0m\u001b[0m\n\u001b[0m",
            "\u001b[0;31mTypeError\u001b[0m: float() argument must be a string or a real number, not 'list'"
          ]
        }
      ]
    },
    {
      "cell_type": "code",
      "source": [
        "num = \"17.00\""
      ],
      "metadata": {
        "id": "ZoJUMKZEDjqt"
      },
      "execution_count": null,
      "outputs": []
    },
    {
      "cell_type": "code",
      "source": [
        "def is_number(strval):\n",
        "    try:\n",
        "        val = int(strval)\n",
        "        return True\n",
        "    except:\n",
        "      try:\n",
        "        val = float(strval)\n",
        "        return True\n",
        "      except:\n",
        "        return False"
      ],
      "metadata": {
        "id": "2c_p9JcWD2qd"
      },
      "execution_count": null,
      "outputs": []
    },
    {
      "cell_type": "code",
      "source": [
        "is_number(num)"
      ],
      "metadata": {
        "colab": {
          "base_uri": "https://localhost:8080/"
        },
        "id": "MjuX25iDFLCZ",
        "outputId": "d8f4bec7-5b41-41e4-8a0f-2c7d2eb80765"
      },
      "execution_count": null,
      "outputs": [
        {
          "output_type": "execute_result",
          "data": {
            "text/plain": [
              "True"
            ]
          },
          "metadata": {},
          "execution_count": 55
        }
      ]
    },
    {
      "cell_type": "code",
      "source": [
        "import re\n",
        "\n",
        "input_string = \"{date_number}{special_character}{month_number}{special_character}{year_full}\"\n",
        "pattern = r\"\\{(month_string_full|month_string_partial|month_number|year_partial|year_full|date_number)\\}\"\n",
        "matches = re.findall(pattern, input_string)\n",
        "\n",
        "print(matches)"
      ],
      "metadata": {
        "colab": {
          "base_uri": "https://localhost:8080/"
        },
        "id": "7pbzI7NZFNKX",
        "outputId": "be04e514-1843-460e-94d4-808313e88957"
      },
      "execution_count": null,
      "outputs": [
        {
          "output_type": "stream",
          "name": "stdout",
          "text": [
            "['month_string_full', 'month_string_full', 'date_number']\n"
          ]
        }
      ]
    },
    {
      "cell_type": "code",
      "source": [],
      "metadata": {
        "id": "k5hkbbPCVEF6"
      },
      "execution_count": null,
      "outputs": []
    }
  ]
}